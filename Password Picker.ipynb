{
 "cells": [
  {
   "cell_type": "markdown",
   "id": "6131df95",
   "metadata": {},
   "source": [
    "# Password Picker"
   ]
  },
  {
   "cell_type": "code",
   "execution_count": 2,
   "id": "3f01f627",
   "metadata": {},
   "outputs": [],
   "source": [
    "import random"
   ]
  },
  {
   "cell_type": "code",
   "execution_count": 15,
   "id": "40f88b25",
   "metadata": {},
   "outputs": [],
   "source": [
    "adj=['attractive','bald','beautiful','chubby','clean','dazzling','drab','elegant','fancy','fit','flabby','glamorous',\n",
    "           'gorgeous','handsome','long','magnificent','muscular','plain','plump','quaint','scruffy','shapely','short','skinny',\n",
    "           'stocky','ugly','unkempt','unsightly']"
   ]
  },
  {
   "cell_type": "code",
   "execution_count": 16,
   "id": "23a49860",
   "metadata": {},
   "outputs": [],
   "source": [
    "noun=['coast','car','sticks','republic of tunisia','goldfish','goose','chickens','face','library','circle','guitar','kittens',\n",
    "      'worm','carrot','people','cannon','boat','rings','furniture','frame','window','parcel','cabbage','pen','lamb',\n",
    "      'sportswoman','icecream','cat','dog','python']"
   ]
  },
  {
   "cell_type": "code",
   "execution_count": 14,
   "id": "3ea15232",
   "metadata": {},
   "outputs": [],
   "source": [
    "pun=['!','?']"
   ]
  },
  {
   "cell_type": "code",
   "execution_count": 24,
   "id": "2830a2c6",
   "metadata": {},
   "outputs": [
    {
     "name": "stdout",
     "output_type": "stream",
     "text": [
      "flabby furniture 70 !\n"
     ]
    }
   ],
   "source": [
    "print(random.choice(adj),random.choice(noun),random.randrange(0,100),random.choice(pun))"
   ]
  },
  {
   "cell_type": "code",
   "execution_count": null,
   "id": "33e8cce7",
   "metadata": {},
   "outputs": [],
   "source": []
  }
 ],
 "metadata": {
  "kernelspec": {
   "display_name": "Python 3",
   "language": "python",
   "name": "python3"
  },
  "language_info": {
   "codemirror_mode": {
    "name": "ipython",
    "version": 3
   },
   "file_extension": ".py",
   "mimetype": "text/x-python",
   "name": "python",
   "nbconvert_exporter": "python",
   "pygments_lexer": "ipython3",
   "version": "3.8.8"
  }
 },
 "nbformat": 4,
 "nbformat_minor": 5
}
